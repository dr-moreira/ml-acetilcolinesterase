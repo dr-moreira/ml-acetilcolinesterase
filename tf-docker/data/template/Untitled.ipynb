{
 "cells": [
  {
   "cell_type": "code",
   "execution_count": 1,
   "id": "d2388532-8cd3-4cd5-a1bb-dba83d81ecb1",
   "metadata": {
    "tags": []
   },
   "outputs": [],
   "source": [
    "import numpy as np\n"
   ]
  },
  {
   "cell_type": "code",
   "execution_count": 2,
   "id": "d19f8163-a022-4505-8e1a-b9e4f78d8c62",
   "metadata": {
    "tags": []
   },
   "outputs": [],
   "source": [
    "H = np.asarray([[0.65,0.70,0.29],[0.07,0.99,0.11],[0.27,0.57,0.78]])"
   ]
  },
  {
   "cell_type": "code",
   "execution_count": 3,
   "id": "c26f960c-1504-422c-80f2-03d4de780920",
   "metadata": {
    "tags": []
   },
   "outputs": [
    {
     "data": {
      "text/plain": [
       "array([[0.65, 0.7 , 0.29],\n",
       "       [0.07, 0.99, 0.11],\n",
       "       [0.27, 0.57, 0.78]])"
      ]
     },
     "execution_count": 3,
     "metadata": {},
     "output_type": "execute_result"
    }
   ],
   "source": [
    "H\n"
   ]
  },
  {
   "cell_type": "code",
   "execution_count": 9,
   "id": "3e1ba009-2b6c-466c-b8c6-cef039172467",
   "metadata": {
    "tags": []
   },
   "outputs": [
    {
     "name": "stdout",
     "output_type": "stream",
     "text": [
      "[[0.65 0.07 0.27]\n",
      " [0.7  0.99 0.57]\n",
      " [0.29 0.11 0.78]]\n"
     ]
    }
   ],
   "source": [
    "print(H.T)"
   ]
  },
  {
   "cell_type": "code",
   "execution_count": 11,
   "id": "a71dcd3d-63df-4058-a108-9684e78fde2e",
   "metadata": {
    "tags": []
   },
   "outputs": [],
   "source": [
    "D = np.linalg.matrix_power(H.T, -1)"
   ]
  },
  {
   "cell_type": "code",
   "execution_count": 12,
   "id": "9d66220c-d25a-4659-bc65-6717571bbe35",
   "metadata": {
    "tags": []
   },
   "outputs": [
    {
     "name": "stdout",
     "output_type": "stream",
     "text": [
      "[[ 1.87798274 -0.06590806 -0.60190736]\n",
      " [-1.00767869  1.13473037 -0.48041419]\n",
      " [-0.55611582 -0.1355218   1.57358807]]\n"
     ]
    }
   ],
   "source": [
    "print(D)"
   ]
  }
 ],
 "metadata": {
  "kernelspec": {
   "display_name": "Python 3 (ipykernel)",
   "language": "python",
   "name": "python3"
  },
  "language_info": {
   "codemirror_mode": {
    "name": "ipython",
    "version": 3
   },
   "file_extension": ".py",
   "mimetype": "text/x-python",
   "name": "python",
   "nbconvert_exporter": "python",
   "pygments_lexer": "ipython3",
   "version": "3.8.10"
  }
 },
 "nbformat": 4,
 "nbformat_minor": 5
}
